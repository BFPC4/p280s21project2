{
 "cells": [
  {
   "cell_type": "markdown",
   "id": "2c474c8d",
   "metadata": {},
   "source": [
    "## Team 2: Spacial Inequality Dynamic \n",
    "##  Comparing US and UK\n",
    "#### UK data found on the Database of Global Administrative Areas (GADM). UK is spilt into Nomencluature of territorial units for statistics (NUTS); a hierarchical systems for dividing up economic territory of the EU and the UK for purposes of: collection, development and EU region statistics as well as socio-economic analyses of the regions. Where NUTS 1 contains major socio-economic regions, NUTS 2 basic regions for the application of regional policies and NUTS 3 focuses on small regions for specific diagnosis. NUTS 1-3 are comparable to 1-US, 2-States and 3-cities. "
   ]
  },
  {
   "cell_type": "code",
   "execution_count": null,
   "id": "de5903da",
   "metadata": {},
   "outputs": [],
   "source": [
    "#Visualization"
   ]
  },
  {
   "cell_type": "code",
   "execution_count": null,
   "id": "108c3d8a",
   "metadata": {},
   "outputs": [],
   "source": [
    "import pandas as pd\n",
    "import geopandas as gpd\n",
    "import hvplot.pandas\n",
    "import holoviews as hv\n",
    "from holoviews import dim\n",
    "from holoviews import opts"
   ]
  },
  {
   "cell_type": "code",
   "execution_count": null,
   "id": "0e74c232",
   "metadata": {},
   "outputs": [],
   "source": [
    "uk = gpd.read_parquet('uk.parquet')\n"
   ]
  },
  {
   "cell_type": "code",
   "execution_count": null,
   "id": "7dbac8dd",
   "metadata": {},
   "outputs": [],
   "source": [
    "hv.extension('bokeh')"
   ]
  },
  {
   "cell_type": "code",
   "execution_count": null,
   "id": "0f769c31",
   "metadata": {},
   "outputs": [],
   "source": [
    "uk.rename(columns={'20181':'2018'},inplace=True)"
   ]
  },
  {
   "cell_type": "code",
   "execution_count": null,
   "id": "783acfe2",
   "metadata": {},
   "outputs": [],
   "source": [
    "uk_long = pd.melt(uk, id_vars=['NUTS code', 'NUTS level', 'region', 'geometry'], value_vars=['1997', '1998', '1999', '2000', '2001', '2002', '2004', '2005', '2006', '2007', '2008', '2009' ,'2011', '2012', '2013', '2014', '2015', '2016', '2017', '2018'], var_name='year', value_name='per_capita')"
   ]
  },
  {
   "cell_type": "code",
   "execution_count": null,
   "id": "ba5f4a77",
   "metadata": {},
   "outputs": [],
   "source": [
    "uk_long.head()"
   ]
  },
  {
   "cell_type": "code",
   "execution_count": null,
   "id": "1e6a15cc",
   "metadata": {},
   "outputs": [],
   "source": [
    "uk_long.tail()"
   ]
  },
  {
   "cell_type": "code",
   "execution_count": null,
   "id": "cb7b806e",
   "metadata": {},
   "outputs": [],
   "source": [
    "uk_long[\"year\"] = uk_long[\"year\"].astype(str).astype(int)"
   ]
  },
  {
   "cell_type": "code",
   "execution_count": null,
   "id": "b06da183",
   "metadata": {},
   "outputs": [],
   "source": [
    "uk_long[\"per_capita\"] = uk_long[\"per_capita\"].astype(int)"
   ]
  },
  {
   "cell_type": "code",
   "execution_count": null,
   "id": "ea1dbb8e",
   "metadata": {},
   "outputs": [],
   "source": [
    "scat = uk_long.hvplot.scatter(x='year', y='per_capita', groupby='region', c='red', legend='top', height=400, width=400, grid=True, hover_cols=['per_capita'])"
   ]
  },
  {
   "cell_type": "code",
   "execution_count": null,
   "id": "de56fcb4",
   "metadata": {},
   "outputs": [],
   "source": [
    "scat"
   ]
  },
  {
   "cell_type": "code",
   "execution_count": null,
   "id": "0ffd674d",
   "metadata": {},
   "outputs": [],
   "source": [
    "uklong = uk_long.drop(columns=['geometry'])"
   ]
  },
  {
   "cell_type": "code",
   "execution_count": null,
   "id": "94a237f4",
   "metadata": {},
   "outputs": [],
   "source": [
    "box = uklong.hvplot.box(y='per_capita', by='year', groupby='year', c='purple',height=400, width=400,hover_cols=['per_capita'])"
   ]
  },
  {
   "cell_type": "code",
   "execution_count": null,
   "id": "a5c73d13",
   "metadata": {},
   "outputs": [],
   "source": [
    "box"
   ]
  },
  {
   "cell_type": "code",
   "execution_count": null,
   "id": "8894032e",
   "metadata": {},
   "outputs": [],
   "source": [
    "box2 = box * uklong.hvplot.scatter(y='per_capita', x='year', groupby=['region','year'],c='red').opts(jitter=0)"
   ]
  },
  {
   "cell_type": "code",
   "execution_count": null,
   "id": "6505c1cb",
   "metadata": {},
   "outputs": [],
   "source": [
    "box2 #West Midlands as an example"
   ]
  },
  {
   "cell_type": "code",
   "execution_count": null,
   "id": "b3fd1c22",
   "metadata": {},
   "outputs": [],
   "source": [
    "ukmap = uk_long.hvplot(c='per_capita', cmap=\"RdYlBu\", groupby='year', height=600, width=600, hover_cols=['per_capita','region'])"
   ]
  },
  {
   "cell_type": "code",
   "execution_count": null,
   "id": "b463f5e7",
   "metadata": {},
   "outputs": [],
   "source": [
    "ukmap"
   ]
  },
  {
   "cell_type": "code",
   "execution_count": null,
   "id": "d8698210",
   "metadata": {},
   "outputs": [],
   "source": []
  },
  {
   "cell_type": "code",
   "execution_count": null,
   "id": "4589291e",
   "metadata": {},
   "outputs": [],
   "source": []
  }
 ],
 "metadata": {
  "kernelspec": {
   "display_name": "Python 3",
   "language": "python",
   "name": "python3"
  },
  "language_info": {
   "codemirror_mode": {
    "name": "ipython",
    "version": 3
   },
   "file_extension": ".py",
   "mimetype": "text/x-python",
   "name": "python",
   "nbconvert_exporter": "python",
   "pygments_lexer": "ipython3",
   "version": "3.7.3"
  }
 },
 "nbformat": 4,
 "nbformat_minor": 5
}
